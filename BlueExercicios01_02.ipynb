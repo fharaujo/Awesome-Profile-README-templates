{
  "nbformat": 4,
  "nbformat_minor": 0,
  "metadata": {
    "colab": {
      "name": "BlueExercicios01_02.ipynb",
      "provenance": [],
      "collapsed_sections": [],
      "authorship_tag": "ABX9TyOFyzI7uuTKlLN/C8kYtgeu",
      "include_colab_link": true
    },
    "kernelspec": {
      "name": "python3",
      "display_name": "Python 3"
    },
    "language_info": {
      "name": "python"
    }
  },
  "cells": [
    {
      "cell_type": "markdown",
      "metadata": {
        "id": "view-in-github",
        "colab_type": "text"
      },
      "source": [
        "<a href=\"https://colab.research.google.com/github/fharaujo/Awesome-Profile-README-templates/blob/master/BlueExercicios01_02.ipynb\" target=\"_parent\"><img src=\"https://colab.research.google.com/assets/colab-badge.svg\" alt=\"Open In Colab\"/></a>"
      ]
    },
    {
      "cell_type": "code",
      "metadata": {
        "colab": {
          "base_uri": "https://localhost:8080/"
        },
        "id": "Unq0pUJ1FufB",
        "outputId": "73a225ab-f178-46a9-b386-60ba050d7280"
      },
      "source": [
        "print('Olá, mundo! Este é o meu primeiro programa')"
      ],
      "execution_count": null,
      "outputs": [
        {
          "output_type": "stream",
          "text": [
            "Olá, mundo! Este é o meu primeiro programa\n"
          ],
          "name": "stdout"
        }
      ]
    },
    {
      "cell_type": "markdown",
      "metadata": {
        "id": "3hnLKiALOy0R"
      },
      "source": [
        ""
      ]
    },
    {
      "cell_type": "code",
      "metadata": {
        "colab": {
          "base_uri": "https://localhost:8080/"
        },
        "id": "0q4ZRPnQNwIF",
        "outputId": "b65a256a-163e-4010-9890-33392091a951"
      },
      "source": [
        "nome = input('Digite seu nome: ')\n",
        "endereco = input('Digite seu endereço: ')\n",
        "cep = input('Digite seu CEP: ')\n",
        "print(f'Nome: {nome}\\nEndereço: {endereco}\\nCEP: {cep}')\n"
      ],
      "execution_count": null,
      "outputs": [
        {
          "output_type": "stream",
          "text": [
            "Digite seu nome: Fábio\n",
            "Digite seu endereço: São Gonçalo\n",
            "Digite seu CEP: 24720-040\n",
            "Nome: Fábio\n",
            "Endereço: São Gonçalo\n",
            "CEP: 24720-040\n"
          ],
          "name": "stdout"
        }
      ]
    },
    {
      "cell_type": "code",
      "metadata": {
        "colab": {
          "base_uri": "https://localhost:8080/"
        },
        "id": "QpB_Qvw5OHky",
        "outputId": "1cb8841d-3f4e-497e-d3d8-a329f221c1a4"
      },
      "source": [
        "nome = input('Digite o seu nome: ')\n",
        "print(f'Olá, {nome}! Seja bem-vindo(a) ao fantástico mundo da programação.')"
      ],
      "execution_count": null,
      "outputs": [
        {
          "output_type": "stream",
          "text": [
            "Digite o seu nome: Fabio\n",
            "Olá, Fabio! Seja bem-vindo(a) ao fantástico mundo da programação.\n"
          ],
          "name": "stdout"
        }
      ]
    },
    {
      "cell_type": "code",
      "metadata": {
        "id": "IgfUe00YPsgx"
      },
      "source": [
        ""
      ],
      "execution_count": null,
      "outputs": []
    },
    {
      "cell_type": "markdown",
      "metadata": {
        "id": "ca6KPWd-7eAR"
      },
      "source": [
        "1 - Frase na tela - Implemente um programa que escreve na tela a frase \"O primeiro programa a gente nunca esquece!\".\n"
      ]
    },
    {
      "cell_type": "code",
      "metadata": {
        "colab": {
          "base_uri": "https://localhost:8080/"
        },
        "id": "oUmF2eSm7iMQ",
        "outputId": "d418fd99-9fca-4f3b-fe8a-ea923280eed3"
      },
      "source": [
        "print('O primeiro programa a gente nunca esquece!')"
      ],
      "execution_count": null,
      "outputs": [
        {
          "output_type": "stream",
          "text": [
            "O primeiro programa a gente nunca esquece!\n"
          ],
          "name": "stdout"
        }
      ]
    },
    {
      "cell_type": "markdown",
      "metadata": {
        "id": "poj49xPx7wJY"
      },
      "source": [
        "2 - Etiqueta - Elabore um programa que escreve seu nome completo na primeira linha, seu endereço na segunda e o CEP e telefone na terceira."
      ]
    },
    {
      "cell_type": "code",
      "metadata": {
        "colab": {
          "base_uri": "https://localhost:8080/"
        },
        "id": "mCGB-Poy72py",
        "outputId": "6d00f2a6-8f16-4a61-d98d-2cfc386f3790"
      },
      "source": [
        "print('Nome Completo: Fábio Henrique de Sousa Araujo\\nEndereço: São Gonçalo\\nCEP: 24720-040 - Telefone: 21990636924')\n"
      ],
      "execution_count": null,
      "outputs": [
        {
          "output_type": "stream",
          "text": [
            "Nome Completo: Fábio Henrique de Sousa Araujo\n",
            "Endereço: São Gonçalo\n",
            "CEP: 24720-040 - Telefone: 21990636924\n"
          ],
          "name": "stdout"
        }
      ]
    },
    {
      "cell_type": "markdown",
      "metadata": {
        "id": "r1zaCFDk8Nyv"
      },
      "source": [
        "3 Letra de música - Faça um programa que mostre na tela uma letra de música que você gosta (proibido letras do Justin Bieber).\n"
      ]
    },
    {
      "cell_type": "code",
      "metadata": {
        "colab": {
          "base_uri": "https://localhost:8080/"
        },
        "id": "yXbEw74I8Sw8",
        "outputId": "edaabba6-816f-4a6e-cdc3-3a534f4ae478"
      },
      "source": [
        "print('Nas favelas, no Senado\\nSujeira pra todo lado\\nNinguém respeita a Constituição\\nMas todos acreditam no futuro da nação\\n\\nQue país é esse?\\nQue país é esse?\\nQue país é esse?\\n\\nNo Amazonas, no Araguaia iá, iá\\nNa Baixada Fluminense\\nMato Grosso, Minas Gerais\\nE no Nordeste tudo em paz\\nNa morte eu descanso\\nMas o sangue anda solto\\nManchando os papéis, documentos fiéis\\nAo descanso do patrão\\n\\nQue país é esse?\\nQue país é esse?\\nQue país é esse?\\nQue país é esse?\\n\\nTerceiro mundo, se for\\nPiada no exterior\\nMas o Brasil vai ficar rico\\nVamos faturar um milhão\\nQuando vendermos todas as almas\\nDos nossos índios num leilão\\n\\nQue país é esse?\\nQue país é esse?')"
      ],
      "execution_count": null,
      "outputs": [
        {
          "output_type": "stream",
          "text": [
            "Nas favelas, no Senado\n",
            "Sujeira pra todo lado\n",
            "Ninguém respeita a Constituição\n",
            "Mas todos acreditam no futuro da nação\n",
            "\n",
            "Que país é esse?\n",
            "Que país é esse?\n",
            "Que país é esse?\n",
            "\n",
            "No Amazonas, no Araguaia iá, iá\n",
            "Na Baixada Fluminense\n",
            "Mato Grosso, Minas Gerais\n",
            "E no Nordeste tudo em paz\n",
            "Na morte eu descanso\n",
            "Mas o sangue anda solto\n",
            "Manchando os papéis, documentos fiéis\n",
            "Ao descanso do patrão\n",
            "\n",
            "Que país é esse?\n",
            "Que país é esse?\n",
            "Que país é esse?\n",
            "Que país é esse?\n",
            "\n",
            "Terceiro mundo, se for\n",
            "Piada no exterior\n",
            "Mas o Brasil vai ficar rico\n",
            "Vamos faturar um milhão\n",
            "Quando vendermos todas as almas\n",
            "Dos nossos índios num leilão\n",
            "\n",
            "Que país é esse?\n",
            "Que país é esse?\n"
          ],
          "name": "stdout"
        }
      ]
    },
    {
      "cell_type": "markdown",
      "metadata": {
        "id": "zJsOqixf-4LO"
      },
      "source": [
        "4 - Tabela de notas - Você foi contratado ou contratada por uma escola pra fazer o sistema de boletim dos alunos. Como primeiro passo, escreva um programa que produza a seguinte saída:\n",
        "\n",
        "\n",
        "\n",
        "```\n",
        "# Isto está formatado como código\n",
        "ALUNO (A)  NOTA\n",
        "=========  ====\n",
        "ALINE      9.0\n",
        "MÁRIO      DEZ\n",
        "SÉRGIO     4.5\n",
        "SHIRLEY    7.0\n",
        "```\n",
        "\n"
      ]
    },
    {
      "cell_type": "code",
      "metadata": {
        "colab": {
          "base_uri": "https://localhost:8080/"
        },
        "id": "adhr1W95_FWc",
        "outputId": "c3d3392b-d789-404e-fc15-c78c2ef2eb29"
      },
      "source": [
        "aluno1 = input('Digite o nome: ')\n",
        "nota_aluno1 = float(input('Digite sua nota: '))\n",
        "aluno2 = input('Digite o nome: ')\n",
        "nota_aluno2 = input('Digite sua nota: ')\n",
        "aluno3 = input('Digite o nome: ')\n",
        "nota_aluno3 = float(input('Digite sua nota: '))\n",
        "aluno4 = input('Digite o nome: ')\n",
        "nota_aluno4 = float(input('Digite sua nota: '))\n",
        "print()\n",
        "print(\"\"\"ALUNO (A)  NOTA\n",
        "=========  ====\"\"\")\n",
        "print(f'{aluno1}\\t   {nota_aluno1}\\n{aluno2}\\t   {nota_aluno2}\\n{aluno3}\\t   {nota_aluno3}\\n{aluno4}\\t   DE{nota_aluno4}')"
      ],
      "execution_count": null,
      "outputs": [
        {
          "output_type": "stream",
          "text": [
            "Digite o nome: ALINE\n",
            "Digite sua nota: 9\n",
            "Digite o nome: MÁRIO\n",
            "Digite sua nota: DEZ\n",
            "Digite o nome: SÉRGIO\n",
            "Digite sua nota: 4.5\n",
            "Digite o nome: SHIRLEY\n",
            "Digite sua nota: 7\n",
            "\n",
            "ALUNO (A)  NOTA\n",
            "=========  ====\n",
            "ALINE\t   9.0\n",
            "MÁRIO\t   DEZ\n",
            "SÉRGIO\t   4.5\n",
            "SHIRLEY\t   7.0\n"
          ],
          "name": "stdout"
        }
      ]
    },
    {
      "cell_type": "markdown",
      "metadata": {
        "id": "l8Ag-j3LC3cU"
      },
      "source": [
        "5 - Menu - Elabore um programa que mostre o seguinte menu na tela:\n",
        "\n",
        "\n",
        "```\n",
        "# Isto está formatado como código\n",
        "Cadastro de Clientes\n",
        "0 - Fim\n",
        "1 - Inclui\n",
        "2 - Altera\n",
        "3 - Exclui\n",
        "4 - Consulta\n",
        "Digite uma opção: \n",
        "```\n",
        "Ao digitar um valor para a opção, o programa exibe qual opção foi escolhida.\n",
        "\n",
        "\n",
        "```\n",
        "# Isto está formatado como código\n",
        "Você escolheu a opção '0'.\n",
        "\n",
        "```\n",
        "\n",
        "\n"
      ]
    },
    {
      "cell_type": "code",
      "metadata": {
        "colab": {
          "base_uri": "https://localhost:8080/"
        },
        "id": "GVK_qJjUC7Gk",
        "outputId": "6d99acff-6966-4b2e-e9de-3b8446a5a3b7"
      },
      "source": [
        "option = input(\"\"\"Cadastro de Clientes\n",
        "0 - Fim\n",
        "1 - Inclui\n",
        "2 - Altera\n",
        "3 - Exclui\n",
        "4 - Consulta\n",
        "Digite uma opção: \"\"\")\n",
        "print(f'Opção escolhida: {option}')"
      ],
      "execution_count": null,
      "outputs": [
        {
          "output_type": "stream",
          "text": [
            "Cadastro de Clientes\n",
            "0 - Fim\n",
            "1 - Inclui\n",
            "2 - Altera\n",
            "3 - Exclui\n",
            "4 - Consulta\n",
            "Digite uma opção: 2\n",
            "Opção escolhida: 2\n"
          ],
          "name": "stdout"
        }
      ]
    },
    {
      "cell_type": "markdown",
      "metadata": {
        "id": "mO1S4sazD0GI"
      },
      "source": [
        "\n",
        "6. **Calculadora de Dano** - Escreva um programa que receba dois valores digitados pelo usuário:\n",
        "  - Quantidade de vida de um monstro (entre 10 e 50);\n",
        "  - Valor do ataque do jogador por turno (entre 5 e 10);\n",
        "  - Baseado nos valores digitados, exiba a quantidade de turnos que o jogador irá demorar para conseguir derrotar o monstro.\n",
        "  - ```\n",
        "    O jogador irá derrotar o monstro em 8 turnos.\n",
        "    ```"
      ]
    },
    {
      "cell_type": "code",
      "metadata": {
        "colab": {
          "base_uri": "https://localhost:8080/"
        },
        "id": "K66lFYG8D9I3",
        "outputId": "c08a5116-54ab-405a-aab9-3eb515f17d6a"
      },
      "source": [
        "from math import ceil \n",
        "qtd_life = int(input('Digite quantidade de vida de um monstro (entre 10 e 50): '))\n",
        "value_attack = int(input('Digite valor do ataque do jogador por turno (entre 5 e 10): '))\n",
        "\n",
        "turno = ceil(qtd_life / value_attack)\n",
        "\n",
        "print(f'Quantidade de turno para derrotar o monstro: {turno}')\n"
      ],
      "execution_count": null,
      "outputs": [
        {
          "output_type": "stream",
          "text": [
            "Digite quantidade de vida de um monstro (entre 10 e 50): 37\n",
            "Digite valor do ataque do jogador por turno (entre 5 e 10): 11\n",
            "Quantidade de turno para derrotar o monstro: 4\n"
          ],
          "name": "stdout"
        }
      ]
    },
    {
      "cell_type": "markdown",
      "metadata": {
        "id": "ngcDJ0__OZBh"
      },
      "source": [
        "**EXERCÍCIOS:**\n",
        "#01 - E os 10% do garçom?**\n",
        "Defina uma variável para o valor de uma refeição que custou R$ 42,54;\n",
        "\n",
        "Defina uma variável para o valor da taxa de serviço que é de 10%;\n",
        "\n",
        "Defina uma variável que calcula o valor total da conta e exiba-o no console com essa formatação: R$ XXXX.XX."
      ]
    },
    {
      "cell_type": "code",
      "metadata": {
        "colab": {
          "base_uri": "https://localhost:8080/"
        },
        "id": "4fEHyaluOcMp",
        "outputId": "2358e269-7a32-4233-a18b-4b5af8174cd8"
      },
      "source": [
        "snack = 42.54\n",
        "tax_service = 0.1\n",
        "total = snack + (snack * tax_service)\n",
        "print(f'Valor total: R$ {total:.2f}')"
      ],
      "execution_count": null,
      "outputs": [
        {
          "output_type": "stream",
          "text": [
            "Valor total: R$ 46.79\n"
          ],
          "name": "stdout"
        }
      ]
    },
    {
      "cell_type": "markdown",
      "metadata": {
        "id": "RNb6wLgQQSJr"
      },
      "source": [
        "#02 - Qual o valor do troco?\n",
        "Defina uma variável para o valor de uma compra que custou R$100,98;\n",
        "\n",
        "Defina uma variável para o valor que o cliente pagou R$150,00;\n",
        "\n",
        "Defina uma variável que calcula o valor do troco e exiba-o no console com o valor final arredondado."
      ]
    },
    {
      "cell_type": "code",
      "metadata": {
        "colab": {
          "base_uri": "https://localhost:8080/"
        },
        "id": "DEfjvsaAQTt-",
        "outputId": "dfd42b4e-c2e1-45ca-e4cd-ba3a720866ca"
      },
      "source": [
        "buy = 100.98\n",
        "client = 150.0\n",
        "value_return = client - buy\n",
        "print(f'Troco: R$ {int(value_return)}')"
      ],
      "execution_count": null,
      "outputs": [
        {
          "output_type": "stream",
          "text": [
            "Troco: R$ 49.0\n"
          ],
          "name": "stdout"
        }
      ]
    },
    {
      "cell_type": "markdown",
      "metadata": {
        "id": "cBLxV5-bSFl_"
      },
      "source": [
        "#03 - Você está na flor da idade?\n",
        "Defina uma variável para o valor do ano do nascimento;\n",
        "Defina uma variável para o valor do ano atual;\n",
        "Defina uma variável que calcula o valor final da idade da pessoa;\n",
        "Exiba uma mensagem final dizendo a idade da pessoa e a mensagem \"Você está na flor da idade\"."
      ]
    },
    {
      "cell_type": "code",
      "metadata": {
        "colab": {
          "base_uri": "https://localhost:8080/"
        },
        "id": "rq4Brfp1SIMV",
        "outputId": "402b83f9-2483-4fb1-8a9a-4397af1b6107"
      },
      "source": [
        "year_birth = 1975\n",
        "year_current = 2021\n",
        "age = year_current - year_birth\n",
        "print(f'Sua idade: {age} - Você está na flor da idade')"
      ],
      "execution_count": null,
      "outputs": [
        {
          "output_type": "stream",
          "text": [
            "Sua idade: 46 - Você está na flor da idade\n"
          ],
          "name": "stdout"
        }
      ]
    },
    {
      "cell_type": "markdown",
      "metadata": {
        "id": "EAPNhyI5UG1d"
      },
      "source": [
        "Mini projetos\n",
        "#01 - Conversor de moedas\n",
        "Crie um programa que solicite um um valor em real ao usuário e converta esse valor, para:\n",
        "\n",
        "\n",
        "\n",
        "\n",
        "*   DOLAR,\n",
        "*   EURO,\n",
        "* LIBRA ESTERLINA,\n",
        "* DÓLAR CANADENSE,\n",
        "* PESO ARGENTINO,\n",
        "* PESO CHILENO.\n",
        "\n",
        "\n",
        "Para esse exercício você precisará realizar uma pesquisa para saber a cotação de cada moeda em real. Mostrar o resultado no formato $ XXXX.XX"
      ]
    },
    {
      "cell_type": "code",
      "metadata": {
        "colab": {
          "base_uri": "https://localhost:8080/"
        },
        "id": "I0eZvOIIUKMU",
        "outputId": "49147522-5162-4b6e-88f8-4165864f4021"
      },
      "source": [
        "real = float(input('Digite um valor em real: '))\n",
        "\n",
        "real_dolar =  real / 5.035 \n",
        "real_euro = real / 6.129\n",
        "real_libra = real / 7.126\n",
        "real_dolar_canadense = real / 4.156\n",
        "real_peso_argentino = real / 0.053\n",
        "real_peso_chile = real / 0.007\n",
        "\n",
        "print(f'Valor para ser convertido: R$ {real}\\n')\n",
        "print(f'Dólar: $ {real_dolar:.2f}\\nEuro: $ {real_euro:.2f}\\nLibra: $ {real_libra:.2f}\\nDólar Canadense: $ {real_dolar_canadense:.2f}\\nPeso Argentino: $ {real_peso_argentino:.2f}\\nPeso Chileno: $ {real_peso_chile:.2f}')\n"
      ],
      "execution_count": null,
      "outputs": [
        {
          "output_type": "stream",
          "text": [
            "Digite um valor em real: 100\n",
            "Valor para ser convertido: R$ 100.0\n",
            "\n",
            "Dólar: $ 19.86\n",
            "Euro: $ 16.32\n",
            "Libra: $ 14.03\n",
            "Dólar Canadense: $ 24.06\n",
            "Peso Argentino: $ 1886.79\n",
            "Peso Chileno: $ 14285.71\n"
          ],
          "name": "stdout"
        }
      ]
    },
    {
      "cell_type": "markdown",
      "metadata": {
        "id": "l31-cYfjUqbv"
      },
      "source": [
        "#02 - Calculadora de aumento de aluguel\n",
        "Vamos construir um programa que irá calcular o aumento anual do seu aluguel em duas partes:\n",
        "\n",
        "Parte 1\n",
        "A sua calculadora vai receber o valor do aluguel e calcular o aumento baseado no IGPM de 31%. A calculadora deve apresentar o aluguel reajustado no formato R$ XXXX.XX\n",
        "\n",
        "Exemplo: ``` Valor do aluguel = 1000 Valor do aluguel reajustado = R$ 1310,00"
      ]
    },
    {
      "cell_type": "code",
      "metadata": {
        "colab": {
          "base_uri": "https://localhost:8080/"
        },
        "id": "QM8KdmaIUry4",
        "outputId": "ac088912-8646-4fe7-a68f-a556347609e2"
      },
      "source": [
        "rent = float(input('Qual o valor do aluguel: '))\n",
        "total_rent = rent + (rent * 0.31)\n",
        "print(f'Valor total do aluguel reajustado: R${total_rent}')"
      ],
      "execution_count": null,
      "outputs": [
        {
          "output_type": "stream",
          "text": [
            "Qual o valor do aluguel: 1000\n",
            "Valor total do aluguel reajustado: R$1310.0\n"
          ],
          "name": "stdout"
        }
      ]
    },
    {
      "cell_type": "markdown",
      "metadata": {
        "id": "_KfCm2fIqquw"
      },
      "source": [
        "Parte 2\n",
        "Agora, altere sua calculadora para receber além do valor do aluguel, o percentual do reajuste no formato XX%.\n",
        "\n",
        "Dica: Descubra uma forma de transformar o percentual recebido em um número para efetuar o cálculo.\n",
        "\n",
        "Exemplo:\n",
        "\n",
        "```\n",
        "# Isto está formatado como código\n",
        "Valor do aluguel = 1000\n",
        "Percentual do reajuste = 31%\n",
        "Valor do aluguel reajustado = R% 1310,00\n",
        "\n",
        "```\n",
        "\n"
      ]
    },
    {
      "cell_type": "code",
      "metadata": {
        "colab": {
          "base_uri": "https://localhost:8080/"
        },
        "id": "BU14SVRorEix",
        "outputId": "9cb0e398-08a1-4dbf-beb2-3d1004a78f3d"
      },
      "source": [
        "rent = float(input('Qual o valor do aluguel: '))\n",
        "tax_add = input('Qual o valor taxa de reajuste em XX%: ')\n",
        "\n",
        "# convertendo a taxa para imprimir\n",
        "tax2 = tax_add.replace(\"%\", \"\")\n",
        "\n",
        "# calculo da taxa\n",
        "tax1 = int(tax_add) / 100\n",
        "total_rent = rent + (rent * tax1)\n",
        "\n",
        "print(f'\\nValor do aluguel: R$ {rent}\\nPercentual de Ajuste: {tax2}%\\nValor total do aluguel reajustado: R$ {total_rent}')"
      ],
      "execution_count": null,
      "outputs": [
        {
          "output_type": "stream",
          "text": [
            "Qual o valor do aluguel: 1000\n",
            "Qual o valor taxa de reajuste em XX%: 31\n",
            "\n",
            "Valor do aluguel: R$ 1000.0\n",
            "Percentual de Ajuste: 31%\n",
            "Valor total do aluguel reajustado: R$ 1310.0\n"
          ],
          "name": "stdout"
        }
      ]
    },
    {
      "cell_type": "code",
      "metadata": {
        "id": "SIpzWT62-kUl"
      },
      "source": [
        ""
      ],
      "execution_count": null,
      "outputs": []
    }
  ]
}